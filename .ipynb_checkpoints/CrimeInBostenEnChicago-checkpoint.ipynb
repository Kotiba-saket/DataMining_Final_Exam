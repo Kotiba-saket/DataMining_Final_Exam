{
 "cells": [
  {
   "cell_type": "code",
   "execution_count": 1,
   "metadata": {},
   "outputs": [],
   "source": [
    "from pyspark.sql import SparkSession\n",
    "spark = SparkSession.builder.master(\"local[*]\").config(\"spark.execute.memory\", \"1gb\").appName(\"Analyzing Bosten and chicago Crime data\").getOrCreate()"
   ]
  },
  {
   "cell_type": "code",
   "execution_count": 2,
   "metadata": {},
   "outputs": [],
   "source": [
    "#import pyspark\n",
    "from pyspark.sql import SparkSession\n",
    "from pyspark.sql.types import  *\n",
    "from pyspark.sql import SQLContext\n",
    "#Zonder schema wordt de namen van de column onduidelijk zoals col1,col2 ....\n",
    "chicago_crimes_schema = StructType([StructField(\"ID\", StringType(), True),\n",
    "                            StructField(\"CaseNumber\", StringType(), True),\n",
    "                            StructField(\"Date\", StringType(), True ),\n",
    "                            StructField(\"Block\", StringType(), True),\n",
    "                            StructField(\"IUCR\", StringType(), True),\n",
    "                            StructField(\"PrimaryType\", StringType(), True  ),\n",
    "                            StructField(\"Description\", StringType(), True ),\n",
    "                            StructField(\"LocationDescription\", StringType(), True ),\n",
    "                            StructField(\"Arrest\", BooleanType(), True),\n",
    "                            StructField(\"Domestic\", BooleanType(), True),\n",
    "                            StructField(\"Beat\", StringType(), True),\n",
    "                            StructField(\"District\", StringType(), True),\n",
    "                            StructField(\"Ward\", StringType(), True),\n",
    "                            StructField(\"CommunityArea\", StringType(), True),\n",
    "                            StructField(\"FBICode\", StringType(), True ),\n",
    "                            StructField(\"XCoordinate\", DoubleType(), True),\n",
    "                            StructField(\"YCoordinate\", DoubleType(), True ),\n",
    "                            StructField(\"Year\", IntegerType(), True),\n",
    "                            StructField(\"UpdatedOn\", DateType(), True ),\n",
    "                            StructField(\"Latitude\", DoubleType(), True),\n",
    "                            StructField(\"Longitude\", DoubleType(), True),\n",
    "                            StructField(\"Location\", StringType(), True )\n",
    "                            ])\n",
    "\n",
    "\n",
    "boston_crimes_schema = StructType([StructField(\"INCIDENT_NUMBER\", StringType(), True),\n",
    "                            StructField(\"OFFENSE_CODE\", StringType(), True),\n",
    "                            StructField(\"OFFENSE_CODE_GROUP\", StringType(), True),\n",
    "                            StructField(\"OFFENSE_DESCRIPTION\", StringType(), True),\n",
    "                            StructField(\"DISTRICT\", StringType(), True),\n",
    "                            StructField(\"REPORTING_AREA\", StringType(), True),\n",
    "                            StructField(\"SHOOTING\", StringType(), True),\n",
    "                            StructField(\"OCCURRED_ON_DATE\", TimestampType(), True),\n",
    "                            StructField(\"YEAR\", IntegerType(), True),\n",
    "                            StructField(\"MONTH\", IntegerType(), True),\n",
    "                            StructField(\"DAY_OF_WEEK\", StringType(), True),\n",
    "                            StructField(\"HOUR\", IntegerType(), True),\n",
    "                            StructField(\"UCR_PART\",StringType(), True),\n",
    "                            StructField(\"STREET\", StringType(), True),\n",
    "                            StructField(\"Lat\", StringType(), True),\n",
    "                            StructField(\"Long\", StringType(), True),\n",
    "                            StructField(\"Location\", StringType(), True)])\n",
    "\n",
    "\n",
    "schema_Income = StructType([StructField(\"ID Year\", StringType(), True),\n",
    "                            StructField(\"Year\", StringType(), True),\n",
    "                            StructField(\"Income\", IntegerType(), True),\n",
    "                            StructField(\"Household Income by Race Moe\", StringType(), True),\n",
    "                            StructField(\"Geography\", StringType(), True),\n",
    "                            StructField(\"ID Geography\", StringType(), True),\n",
    "                            StructField(\"Slug\", StringType(), True)])\n",
    "\n",
    "\n",
    "## old schema Crime in Bosten \n",
    "crimes_old_schema = StructType([StructField(\"COMPNOS\", StringType(), True),\n",
    "                            StructField(\"NatureCode\", StringType(), True),\n",
    "                            StructField(\"INCIDENT_TYPE_DESCRIPTION\", StringType(), True),\n",
    "                            StructField(\"MAIN_CRIMECODE\", StringType(), True),\n",
    "                            StructField(\"REPTDISTRICT\", StringType(), True),\n",
    "                            StructField(\"REPORTINGAREA\", StringType(), True),\n",
    "                            StructField(\"FROMDATE\", StringType(), True),\n",
    "                            StructField(\"WEAPONTYPE\", StringType(), True),\n",
    "                            StructField(\"Shooting\", StringType(), True),\n",
    "                            StructField(\"DOMESTIC\", StringType(), True),\n",
    "                            StructField(\"SHIFT\", StringType(), True),\n",
    "                            StructField(\"Year\", StringType(), True),\n",
    "                            StructField(\"Month\", IntegerType(), True),\n",
    "                            StructField(\"DAY_WEEK\", StringType(), True),\n",
    "                            StructField(\"UCRPART\", StringType(), True),\n",
    "                            StructField(\"X\", StringType(), True),\n",
    "                            StructField(\"Y\", StringType(), True),\n",
    "                            StructField(\"STREETNAME\", StringType(), True),\n",
    "                            StructField(\"XSTREETNAME\", StringType(), True),\n",
    "                            StructField(\"Location\", StringType(), True)\n",
    "])\n",
    "\n",
    "\n",
    "## Bosten Icom schema\n",
    "income_schema = StructType([StructField(\"ID\", IntegerType(), True),\n",
    "                           StructField(\"Year\", IntegerType(), True),\n",
    "                           StructField(\"Income\", IntegerType(), True),\n",
    "                           StructField(\"IncomeMoe\", StringType(), True),\n",
    "                           StructField(\"Geo\", StringType(), True),\n",
    "                           StructField(\"GeoId\", StringType(), True),\n",
    "                           StructField(\"SlugGeo\", StringType(), True)])\n",
    " \n",
    "\n",
    "bostoncrimes = spark.read.csv(\"./data/BostonData.csv\", header = True, schema = boston_crimes_schema)\n",
    "\n",
    "\n",
    "\n",
    "\n",
    "\n",
    "chicagocrimes = spark.read.csv(\"./data/city_of_chicago_crimes_2001_to_present.csv\",header = True,schema = chicago_crimes_schema)\n",
    "\n",
    "\n",
    "#spark = SparkSession.builder.appName(\"Analyzing Bosten and chicago Income data\").getOrCreate()\n",
    "\n",
    "chicagoIncome = spark.read.csv(\"./data/ChicagoHouseholdIncome.csv\",header = True,schema = schema_Income)\n",
    "\n",
    "\n",
    "#spark = SparkSession.builder.appName(\"Analyzing Bosten and Boston Income data\").getOrCreate()\n",
    "\n",
    "bostonIncome = spark.read.csv(\"./data/BostonHouseholdIncome.csv\",header = True,schema = schema_Income)\n",
    "\n",
    "#Income in Bosten \n",
    "crimes_old = spark.read.csv(\"./data/BostonCrimesOld.csv\", header = True, schema = crimes_old_schema)\n",
    " \n",
    "\n",
    "sc = spark.sparkContext\n",
    "sqlContext = SQLContext(sc)"
   ]
  },
  {
   "cell_type": "code",
   "execution_count": 3,
   "metadata": {},
   "outputs": [
    {
     "name": "stdout",
     "output_type": "stream",
     "text": [
      "+---------------+\n",
      "|INCIDENT_NUMBER|\n",
      "+---------------+\n",
      "|      120420285|\n",
      "|      120419202|\n",
      "|      120419213|\n",
      "|      120419223|\n",
      "|      120419236|\n",
      "|      120419239|\n",
      "|      120419257|\n",
      "|      120419424|\n",
      "|      120419255|\n",
      "|      120419274|\n",
      "|      120419278|\n",
      "|      120419280|\n",
      "|      120449819|\n",
      "|      120419475|\n",
      "|      120419370|\n",
      "|      120419367|\n",
      "|      120419366|\n",
      "|      120419376|\n",
      "|      120419382|\n",
      "|      120419328|\n",
      "+---------------+\n",
      "only showing top 20 rows\n",
      "\n"
     ]
    }
   ],
   "source": [
    "bostoncrimes.select(\"INCIDENT_NUMBER\").show()"
   ]
  },
  {
   "cell_type": "code",
   "execution_count": 4,
   "metadata": {},
   "outputs": [
    {
     "data": {
      "text/plain": [
       "6988852"
      ]
     },
     "execution_count": 4,
     "metadata": {},
     "output_type": "execute_result"
    }
   ],
   "source": [
    "chicagocrimes.count()"
   ]
  },
  {
   "cell_type": "code",
   "execution_count": 5,
   "metadata": {},
   "outputs": [
    {
     "data": {
      "text/plain": [
       "['ID',\n",
       " 'CaseNumber',\n",
       " 'Date',\n",
       " 'Block',\n",
       " 'IUCR',\n",
       " 'PrimaryType',\n",
       " 'Description',\n",
       " 'LocationDescription',\n",
       " 'Arrest',\n",
       " 'Domestic',\n",
       " 'Beat',\n",
       " 'District',\n",
       " 'Ward',\n",
       " 'CommunityArea',\n",
       " 'FBICode',\n",
       " 'XCoordinate',\n",
       " 'YCoordinate',\n",
       " 'Year',\n",
       " 'UpdatedOn',\n",
       " 'Latitude',\n",
       " 'Longitude',\n",
       " 'Location']"
      ]
     },
     "execution_count": 5,
     "metadata": {},
     "output_type": "execute_result"
    }
   ],
   "source": [
    "chicagocrimes.columns"
   ]
  },
  {
   "cell_type": "code",
   "execution_count": 6,
   "metadata": {},
   "outputs": [
    {
     "data": {
      "text/plain": [
       "694876"
      ]
     },
     "execution_count": 6,
     "metadata": {},
     "output_type": "execute_result"
    }
   ],
   "source": [
    "bostoncrimes.count()"
   ]
  },
  {
   "cell_type": "code",
   "execution_count": 7,
   "metadata": {},
   "outputs": [
    {
     "data": {
      "text/plain": [
       "['INCIDENT_NUMBER',\n",
       " 'OFFENSE_CODE',\n",
       " 'OFFENSE_CODE_GROUP',\n",
       " 'OFFENSE_DESCRIPTION',\n",
       " 'DISTRICT',\n",
       " 'REPORTING_AREA',\n",
       " 'SHOOTING',\n",
       " 'OCCURRED_ON_DATE',\n",
       " 'YEAR',\n",
       " 'MONTH',\n",
       " 'DAY_OF_WEEK',\n",
       " 'HOUR',\n",
       " 'UCR_PART',\n",
       " 'STREET',\n",
       " 'Lat',\n",
       " 'Long',\n",
       " 'Location']"
      ]
     },
     "execution_count": 7,
     "metadata": {},
     "output_type": "execute_result"
    }
   ],
   "source": [
    "bostoncrimes.columns"
   ]
  },
  {
   "cell_type": "code",
   "execution_count": 8,
   "metadata": {},
   "outputs": [
    {
     "name": "stdout",
     "output_type": "stream",
     "text": [
      "+----------------------+\n",
      "|Date                  |\n",
      "+----------------------+\n",
      "|10/10/2019 11:39:00 PM|\n",
      "|10/10/2019 11:38:00 PM|\n",
      "|10/10/2019 11:34:00 PM|\n",
      "|10/10/2019 11:31:00 PM|\n",
      "|10/10/2019 11:30:00 PM|\n",
      "|10/10/2019 11:30:00 PM|\n",
      "|10/10/2019 11:24:00 PM|\n",
      "|10/10/2019 11:23:00 PM|\n",
      "|10/10/2019 11:20:00 PM|\n",
      "|10/10/2019 11:15:00 PM|\n",
      "+----------------------+\n",
      "only showing top 10 rows\n",
      "\n"
     ]
    }
   ],
   "source": [
    "chicagocrimes.select('Date').show(10,truncate=False)"
   ]
  },
  {
   "cell_type": "code",
   "execution_count": 9,
   "metadata": {
    "scrolled": false
   },
   "outputs": [
    {
     "name": "stdout",
     "output_type": "stream",
     "text": [
      "+-------------------+\n",
      "|          Date_time|\n",
      "+-------------------+\n",
      "|2019-10-10 23:39:00|\n",
      "|2019-10-10 23:38:00|\n",
      "|2019-10-10 23:34:00|\n",
      "|2019-10-10 23:31:00|\n",
      "|2019-10-10 23:30:00|\n",
      "+-------------------+\n",
      "only showing top 5 rows\n",
      "\n"
     ]
    }
   ],
   "source": [
    "from datetime import datetime\n",
    "from pyspark.sql.functions import col,udf\n",
    "myfunc =  udf(lambda x: datetime.strptime(x, '%m/%d/%Y %I:%M:%S %p'), TimestampType())\n",
    "df =chicagocrimes.withColumn('Date_time',myfunc(col('Date'))).drop('Date')\n",
    "df.select(df[\"Date_time\"]).show(5)\n",
    "\n",
    "dg =bostoncrimes.withColumn('OCCURRED_ON_DATE',myfunc(col('OCCURRED_ON_DATE'))).drop('OCCURRED_ON_DATE')\n",
    "#dg.select(df[\"OCCURRED_ON_DATE\"]).show(5)"
   ]
  },
  {
   "cell_type": "code",
   "execution_count": 10,
   "metadata": {},
   "outputs": [
    {
     "data": {
      "text/plain": [
       "[Row(Year=2001, count=485760),\n",
       " Row(Year=2002, count=486758),\n",
       " Row(Year=2003, count=475949),\n",
       " Row(Year=2004, count=469390),\n",
       " Row(Year=2005, count=453717),\n",
       " Row(Year=2006, count=448120),\n",
       " Row(Year=2007, count=437027),\n",
       " Row(Year=2008, count=427071),\n",
       " Row(Year=2009, count=392724),\n",
       " Row(Year=2010, count=370354),\n",
       " Row(Year=2011, count=351819),\n",
       " Row(Year=2012, count=336051),\n",
       " Row(Year=2013, count=307178),\n",
       " Row(Year=2014, count=275395),\n",
       " Row(Year=2015, count=264247),\n",
       " Row(Year=2016, count=269203),\n",
       " Row(Year=2017, count=268371),\n",
       " Row(Year=2018, count=267527),\n",
       " Row(Year=2019, count=202191)]"
      ]
     },
     "execution_count": 10,
     "metadata": {},
     "output_type": "execute_result"
    }
   ],
   "source": [
    "#data = df.groupBy('Year').count().show()\n",
    "chicago_data =df.groupBy('Year').count().sort('Year').collect()\n",
    "chicago_count = [item[1] for item in chicago_data]\n",
    "chicago_year = [item[0] for item in chicago_data]\n",
    "chicago_data"
   ]
  },
  {
   "cell_type": "code",
   "execution_count": 11,
   "metadata": {},
   "outputs": [
    {
     "data": {
      "text/plain": [
       "[43186, 87052, 88058, 103357, 99430, 101338, 98888, 73567]"
      ]
     },
     "execution_count": 11,
     "metadata": {},
     "output_type": "execute_result"
    }
   ],
   "source": [
    "#data = df.groupBy('Year').count().show()\n",
    "boston_data =dg.groupBy('Year').count().sort('Year').collect()\n",
    "boston_count = [item[1] for item in boston_data]\n",
    "boston_year = [item[0] for item in boston_data]\n",
    "boston_count"
   ]
  },
  {
   "cell_type": "code",
   "execution_count": 12,
   "metadata": {
    "scrolled": false
   },
   "outputs": [
    {
     "data": {
      "image/png": "[encoded data removed]",
      "text/plain": [
       "<Figure size 1296x720 with 1 Axes>"
      ]
     },
     "metadata": {
      "needs_background": "light"
     },
     "output_type": "display_data"
    }
   ],
   "source": [
    "%matplotlib inline\n",
    "import matplotlib.pyplot as plt\n",
    "import numpy as np\n",
    "\n",
    "y_axis = [i for i in boston_count] \n",
    "x_axis= [i for i in chicago_count]\n",
    "#z_axis = [i for i in boston_count]\n",
    "\n",
    "fig = plt.figure(figsize=(18,10))\n",
    "plt.title('Comparing number of crimes per year in Boston and Chicago from 2012 to 2019', fontsize=24)\n",
    " \n",
    "data = [x_axis[11:],y_axis]\n",
    "\n",
    "\n",
    "years = ['2012','2013','2014','2015','2016','2017','2018','2019']\n",
    "X = np.arange(len(years))\n",
    "plt.bar(X - 0.15, data[0], color = '#003f5c', width = 0.3,label='chicago')\n",
    "plt.bar(X + 0.15, data[1], color = '#58508d', width = 0.3,label='boston')\n",
    "ax = plt.gca()\n",
    "ax.legend(shadow=True)\n",
    "plt.xticks(X,(years))\n",
    "\n",
    "# Show the major grid lines with dark grey lines\n",
    "plt.grid(b=True, which='major', color='#666666', linestyle='-')\n",
    "\n",
    "# Show the minor grid lines with very faint and almost transparent grey lines\n",
    "plt.minorticks_on()\n",
    "plt.grid(b=True, which='minor', color='#999999', linestyle='-', alpha=0.2)\n",
    "\n",
    "plt.show()"
   ]
  },
  {
   "cell_type": "markdown",
   "metadata": {},
   "source": [
    "Bevolking van Chicago in 2012 ---> 2,72 miljoen\n",
    "Bevolking van Boston in 2012 ----> 642 duizend (dat is 23% van de bevolking van Chicago)\n",
    "\n",
    "Bevolking van Chicago in 2019 ---> 2,7 miljoen\n",
    "Bevolking van Boston in 2019 ----> 699 duizend (dat is bijna 26% van de bevolking van Chicago)\n",
    "\n",
    "============================== 2012 ===================================\n",
    "(336051/2,720,000) * 100 ====> 12.4% crime to population rate in Chiago\n",
    "\n",
    "(43186 / 642,000) * 100 =====> 6.7% crime to population rate in Boston\n",
    "\n",
    "\n",
    "\n",
    "============================== 2019 =======================================\n",
    "(202191 / 2,700,000) * 100 ======> 7.5% crime to population rate in Chicago\n",
    "\n",
    "(73567 / 699,000) * 100 =========> 10.5% crime to population rate in Boston"
   ]
  },
  {
   "cell_type": "code",
   "execution_count": 13,
   "metadata": {},
   "outputs": [],
   "source": [
    "bostoncrimes.registerTempTable(\"table\")\n",
    "crimes_old.registerTempTable(\"test\")\n",
    "\n",
    "# Join them together\n",
    "all_boston_crimes = sqlContext.sql(\"\"\"\n",
    "               SELECT\n",
    "                   YEAR,\n",
    "                   MONTH,\n",
    "                   STREET,\n",
    "                   DISTRICT,\n",
    "                   OFFENSE_DESCRIPTION,\n",
    "                   Location\n",
    "                FROM table\n",
    "                UNION\n",
    "                SELECT\n",
    "                    YEAR,\n",
    "                    MONTH,\n",
    "                    STREETNAME,\n",
    "                    REPTDISTRICT,\n",
    "                    INCIDENT_TYPE_DESCRIPTION,\n",
    "                    Location\n",
    "                FROM test\"\"\")"
   ]
  },
  {
   "cell_type": "code",
   "execution_count": 14,
   "metadata": {},
   "outputs": [],
   "source": [
    "## get only the boston house hold income\n",
    "bostonIncome.registerTempTable(\"income\")\n",
    "\n",
    "BostonIncome = sqlContext.sql(\"SELECT * FROM income WHERE Slug LIKE 'boston%'\").groupBy(\"YEAR\").sum(\"Income\").orderBy(\"YEAR\")"
   ]
  },
  {
   "cell_type": "code",
   "execution_count": 15,
   "metadata": {},
   "outputs": [],
   "source": [
    "yearCount = bostoncrimes.groupBy(\"YEAR\").count().orderBy(\"YEAR\")#.groupBy(\"YEAR\").count().orderBy(\"YEAR\").show()"
   ]
  },
  {
   "cell_type": "code",
   "execution_count": 16,
   "metadata": {},
   "outputs": [
    {
     "name": "stdout",
     "output_type": "stream",
     "text": [
      "+----+------+\n",
      "|YEAR| count|\n",
      "+----+------+\n",
      "|2012| 43186|\n",
      "|2013| 87052|\n",
      "|2014| 88058|\n",
      "|2015|103357|\n",
      "|2016| 99430|\n",
      "|2017|101338|\n",
      "|2018| 98888|\n",
      "|2019| 73567|\n",
      "+----+------+\n",
      "\n"
     ]
    }
   ],
   "source": [
    "yearCount.show()"
   ]
  },
  {
   "cell_type": "code",
   "execution_count": 17,
   "metadata": {},
   "outputs": [],
   "source": [
    "chicago_year_count=chicagocrimes.groupBy(\"YEAR\").count().orderBy(\"YEAR\")#.groupBy(\"YEAR\").count().orderBy(\"YEAR\").show()"
   ]
  },
  {
   "cell_type": "code",
   "execution_count": 18,
   "metadata": {},
   "outputs": [
    {
     "name": "stdout",
     "output_type": "stream",
     "text": [
      "+----+------+\n",
      "|YEAR| count|\n",
      "+----+------+\n",
      "|2001|485760|\n",
      "|2002|486758|\n",
      "|2003|475949|\n",
      "|2004|469390|\n",
      "|2005|453717|\n",
      "|2006|448120|\n",
      "|2007|437027|\n",
      "|2008|427071|\n",
      "|2009|392724|\n",
      "|2010|370354|\n",
      "|2011|351819|\n",
      "|2012|336051|\n",
      "|2013|307178|\n",
      "|2014|275395|\n",
      "|2015|264247|\n",
      "|2016|269203|\n",
      "|2017|268371|\n",
      "|2018|267527|\n",
      "|2019|202191|\n",
      "+----+------+\n",
      "\n"
     ]
    }
   ],
   "source": [
    "chicago_year_count.show()"
   ]
  },
  {
   "cell_type": "code",
   "execution_count": 19,
   "metadata": {},
   "outputs": [
    {
     "data": {
      "text/plain": [
       "[Row(YEAR=2013, count=307178),\n",
       " Row(YEAR=2014, count=275395),\n",
       " Row(YEAR=2015, count=264247),\n",
       " Row(YEAR=2016, count=269203),\n",
       " Row(YEAR=2017, count=268371),\n",
       " Row(YEAR=2018, count=267527)]"
      ]
     },
     "execution_count": 19,
     "metadata": {},
     "output_type": "execute_result"
    }
   ],
   "source": [
    "test2 = chicago_year_count.filter('YEAR >= 2013 AND YEAR <= 2018').limit(6).collect()\n",
    "test2"
   ]
  },
  {
   "cell_type": "code",
   "execution_count": 20,
   "metadata": {},
   "outputs": [
    {
     "data": {
      "text/plain": [
       "[Row(YEAR=2013, count=87052),\n",
       " Row(YEAR=2014, count=88058),\n",
       " Row(YEAR=2015, count=103357),\n",
       " Row(YEAR=2016, count=99430),\n",
       " Row(YEAR=2017, count=101338),\n",
       " Row(YEAR=2018, count=98888)]"
      ]
     },
     "execution_count": 20,
     "metadata": {},
     "output_type": "execute_result"
    }
   ],
   "source": [
    "test = yearCount.filter('YEAR >= 2013 AND YEAR <= 2018').limit(6).collect()\n",
    "test"
   ]
  },
  {
   "cell_type": "code",
   "execution_count": 21,
   "metadata": {},
   "outputs": [
    {
     "data": {
      "image/png": "[encoded data removed]",
      "text/plain": [
       "<Figure size 432x288 with 1 Axes>"
      ]
     },
     "metadata": {
      "needs_background": "light"
     },
     "output_type": "display_data"
    },
    {
     "data": {
      "text/plain": [
       "[126490, 132569, 137063, 146001, 152449]"
      ]
     },
     "execution_count": 21,
     "metadata": {},
     "output_type": "execute_result"
    }
   ],
   "source": [
    "import numpy as np\n",
    "\n",
    "x_axies = [i[0] for i in BostonIncome.select(\"sum(Income)\").limit(5).collect()]\n",
    "y_axies = [i[1] for i in yearCount.filter('YEAR >= 2013 AND YEAR <= 2018').orderBy(\"YEAR\").limit(5).collect()]\n",
    "\n",
    "fig = plt.figure(figsize=(18,10))\n",
    "\n",
    "data = [x_axies, y_axies]\n",
    "years = ['2013','2014','2015','2016','2017']\n",
    "X = np.arange(len(years))\n",
    "\n",
    "plt.title('Crime VS incom in Bosten', fontsize=20)\n",
    "plt.bar(X + 0.15, data[0], color = '#ff5252', width = 0.30, label = 'Crime')\n",
    "plt.bar(X - 0.15, data[1], color = '#9dff52', width = 0.30, label = 'Income ')\n",
    "\n",
    "ax = plt.gca()\n",
    "ax.legend(shadow=True)\n",
    "plt.xticks(X,(years))\n",
    "\n",
    "# Show the major grid lines with dark grey lines\n",
    "plt.grid(b=True, which='major', color='#666666', linestyle='-')\n",
    "\n",
    "# Show the minor grid lines with very faint and almost transparent grey lines\n",
    "plt.minorticks_on()\n",
    "plt.grid(b=True, which='minor', color='#999999', linestyle='-', alpha=0.2)\n",
    "plt.show()\n",
    "x_axies"
   ]
  },
  {
   "cell_type": "code",
   "execution_count": 22,
   "metadata": {},
   "outputs": [
    {
     "name": "stdout",
     "output_type": "stream",
     "text": [
      "+----+-----------+\n",
      "|Year|sum(income)|\n",
      "+----+-----------+\n",
      "|2013|     107663|\n",
      "|2014|     110332|\n",
      "|2015|     113855|\n",
      "|2016|     119026|\n",
      "|2017|     123698|\n",
      "+----+-----------+\n",
      "\n"
     ]
    }
   ],
   "source": [
    "#chigago Icome VS Crime \n",
    "chicagoIncome.registerTempTable('chicagoIncome')\n",
    "\n",
    "chicagoIncomeData = sqlContext.sql(\"Select * From chicagoIncome where Slug Like 'chicago%'\").groupBy(\"Year\").sum(\"income\").orderBy('Year')\n",
    "chicagoIncomeData.show()"
   ]
  },
  {
   "cell_type": "code",
   "execution_count": 23,
   "metadata": {},
   "outputs": [
    {
     "data": {
      "image/png": "[encoded data removed]",
      "text/plain": [
       "<Figure size 432x288 with 1 Axes>"
      ]
     },
     "metadata": {
      "needs_background": "light"
     },
     "output_type": "display_data"
    }
   ],
   "source": [
    "import numpy as np \n",
    "x_axies = [i[0] for i in chicagoIncomeData.select(\"sum(Income)\").limit(5).collect()]\n",
    "y_axies = [i[1] for i in chicago_year_count.filter('YEAR >= 2013 AND YEAR <= 2018').orderBy(\"YEAR\").limit(5).collect()]\n",
    "\n",
    "fig = plt.figure(figsize=(18,10))\n",
    "\n",
    "data = [x_axies, y_axies]\n",
    "years = [\"2013\",\"2014\",\"2015\",\"2016\",\"2017\"]\n",
    "X = np.arange(len(years))\n",
    "\n",
    "plt.title('Crime VS incom in chicago', fontsize=20)\n",
    "plt.bar(X + 0.15, data[1], color = '#ff5252', width = 0.30, label = 'Crime ')\n",
    "plt.bar(X - 0.15, data[0], color = '#9dff52', width = 0.30, label = 'Income')\n",
    "\n",
    "ax = plt.gca()\n",
    "ax.legend(shadow=True)\n",
    "plt.xticks(X,(years))\n",
    "\n",
    "# Show the major grid lines with dark grey lines\n",
    "plt.grid(b=True, which='major', color='#666666', linestyle='-')\n",
    "\n",
    "# Show the minor grid lines with very faint and almost transparent grey lines\n",
    "plt.minorticks_on()\n",
    "plt.grid(b=True, which='minor', color='#999999', linestyle='-', alpha=0.2)\n",
    "plt.show()"
   ]
  },
  {
   "cell_type": "markdown",
   "metadata": {},
   "source": [
    "We kunnen duidelijk zien dat het inkomen in zowel Chicago en Boston stijgt door de jaren heen"
   ]
  },
  {
   "cell_type": "code",
   "execution_count": 24,
   "metadata": {
    "scrolled": false
   },
   "outputs": [
    {
     "data": {
      "text/plain": [
       "[Row(MONTH=1, count=52246),\n",
       " Row(MONTH=2, count=47156),\n",
       " Row(MONTH=3, count=53388),\n",
       " Row(MONTH=4, count=52797),\n",
       " Row(MONTH=5, count=58392),\n",
       " Row(MONTH=6, count=61425),\n",
       " Row(MONTH=7, count=72966),\n",
       " Row(MONTH=8, count=70257),\n",
       " Row(MONTH=9, count=65730),\n",
       " Row(MONTH=10, count=57122),\n",
       " Row(MONTH=11, count=51839),\n",
       " Row(MONTH=12, count=51558)]"
      ]
     },
     "execution_count": 24,
     "metadata": {},
     "output_type": "execute_result"
    }
   ],
   "source": [
    "#data = df.groupBy('Year').count().show()\n",
    "boston_data =dg.groupBy('MONTH').count().sort('MONTH').collect()\n",
    "boston_month_count = [item[1] for item in boston_data]\n",
    "boston_month = [item[0] for item in boston_data]\n",
    "boston_data"
   ]
  },
  {
   "cell_type": "code",
   "execution_count": 25,
   "metadata": {
    "scrolled": false
   },
   "outputs": [
    {
     "data": {
      "text/plain": [
       "[Row(Month=12, count=84413),\n",
       " Row(Month=1, count=103409),\n",
       " Row(Month=6, count=118411),\n",
       " Row(Month=3, count=105575),\n",
       " Row(Month=5, count=118617),\n",
       " Row(Month=9, count=114318),\n",
       " Row(Month=4, count=106333),\n",
       " Row(Month=8, count=123541),\n",
       " Row(Month=7, count=123518),\n",
       " Row(Month=10, count=99216),\n",
       " Row(Month=11, count=84325),\n",
       " Row(Month=2, count=89863)]"
      ]
     },
     "execution_count": 25,
     "metadata": {},
     "output_type": "execute_result"
    }
   ],
   "source": [
    "from pyspark.sql.functions import month\n",
    "chicago_monthdf = df.withColumn(\"Month\",month('Date_time'))\n",
    "chicago_month_count = chicago_monthdf.select(\"Month\").where(chicagocrimes['Year'] >= 2015).groupBy(\"Month\").count()\n",
    "chicago_month_count = chicago_month_count.collect()\n",
    "chicago_month_count"
   ]
  },
  {
   "cell_type": "code",
   "execution_count": 26,
   "metadata": {},
   "outputs": [
    {
     "data": {
      "text/plain": [
       "[Row(Month=1, count=103409),\n",
       " Row(Month=2, count=89863),\n",
       " Row(Month=3, count=105575),\n",
       " Row(Month=4, count=106333),\n",
       " Row(Month=5, count=118617),\n",
       " Row(Month=6, count=118411),\n",
       " Row(Month=7, count=123518),\n",
       " Row(Month=8, count=123541),\n",
       " Row(Month=9, count=114318),\n",
       " Row(Month=10, count=99216),\n",
       " Row(Month=11, count=84325),\n",
       " Row(Month=12, count=84413)]"
      ]
     },
     "execution_count": 26,
     "metadata": {},
     "output_type": "execute_result"
    }
   ],
   "source": [
    "chicago_month_count.sort()\n",
    "chicago_months = [item[0] for item in chicago_month_count]\n",
    "chicago_month_counts = [item[1] for item in chicago_month_count]\n",
    "chicago_month_count"
   ]
  },
  {
   "cell_type": "code",
   "execution_count": 27,
   "metadata": {
    "scrolled": false
   },
   "outputs": [
    {
     "data": {
      "image/png": "[encoded data removed]",
      "text/plain": [
       "<Figure size 720x576 with 1 Axes>"
      ]
     },
     "metadata": {
      "needs_background": "light"
     },
     "output_type": "display_data"
    }
   ],
   "source": [
    "x_axis = [i for i in boston_month_count] \n",
    "y_axis= [i for i in chicago_month_counts]\n",
    "#z_axis = [i for i in boston_count]\n",
    "\n",
    "fig = plt.figure(figsize=(10,8))\n",
    "plt.title('Comparing number of crimes per month in Boston and Chicago', fontsize=24)\n",
    "#print(x_axis)\n",
    "#print(y_axis)\n",
    "#print(y_axis[11:])\n",
    "data = [x_axis,y_axis]\n",
    "\n",
    " \n",
    "#Month = ['1','2','3','4','5','6','7','8','9','10','11','12']\n",
    "ax.set_xlim(1, 12)\n",
    "X = np.arange(1,13,1)\n",
    "plt.plot(X + 0.00, data[0], color = 'green',linewidth = 3, label='boston')\n",
    "plt.plot(X + 0.00, data[1], color = 'red',linewidth = 3, label='chicago')\n",
    "ax = plt.gca()\n",
    "ax.legend(shadow=True)\n",
    "\n",
    "plt.xticks(X)\n",
    "# Show the major grid lines with dark grey lines\n",
    "plt.grid(b=True, which='major', color='#666666', linestyle='-')\n",
    "\n",
    "# Show the minor grid lines with very faint and almost transparent grey lines\n",
    "plt.minorticks_on()\n",
    "plt.grid(b=True, which='minor', color='#999999', linestyle='-', alpha=0.2)\n",
    "\n",
    "plt.show()"
   ]
  },
  {
   "cell_type": "markdown",
   "metadata": {},
   "source": [
    "Crimes in Chicago en Boston zijn op het hoogste in juli en augustus (zomer feestdagen)\n",
    "Rond deze tijd zijn er veel toeristen in de stad en ze zijn meestal het slachtoffers\n",
    "Veel mensen gaan buiten tijdens deze periodes ook en zo meer mensen te beroven of doden"
   ]
  },
  {
   "cell_type": "code",
   "execution_count": 28,
   "metadata": {
    "scrolled": false
   },
   "outputs": [
    {
     "data": {
      "text/plain": [
       "[['42.34862382', '-71.08277637', 1671],\n",
       " ['42.36183857', '-71.05976489', 1651],\n",
       " ['768218.0809', '2945064.255', 1506],\n",
       " ['42.28482577', '-71.09137369', 1463],\n",
       " ['42.32866284', '-71.08563401', 1337],\n",
       " ['42.25621592', '-71.12401947', 1239],\n",
       " ['42.29755533', '-71.0597091', 1153],\n",
       " ['42.34128751', '-71.05467933', 1011],\n",
       " ['774104.1328', '2943918.604', 1008],\n",
       " ['42.33152148', '-71.07085307', 995],\n",
       " ['-1', '-1', 928],\n",
       " ['42.33511904', '-71.0749171', 902],\n",
       " ['42.32696647', '-71.06198607', 888],\n",
       " ['42.33210843', '-71.07014395', 872],\n",
       " ['42.30971857', '-71.10429432', 864],\n",
       " ['42.3523119', '-71.0637051', 851],\n",
       " ['42.32696802', '-71.08051941', 851],\n",
       " ['766751.5911', '2929095.955', 843],\n",
       " ['42.33954199', '-71.06940877', 841],\n",
       " ['42.35512339', '-71.0608798', 803],\n",
       " ['42.33401829', '-71.07638124', 766],\n",
       " ['776551.5679', '2949714.607', 735],\n",
       " ['42.34285014', '-71.06516235', 716],\n",
       " ['774845.858', '2938432.619', 714],\n",
       " ['42.33428841', '-71.07239518', 713],\n",
       " ['42.310434', '-71.0613401', 699],\n",
       " ['769006.8448', '2952355.38', 699],\n",
       " ['42.29848866', '-71.06313294', 697],\n",
       " ['775275.7115', '2933759.268', 695],\n",
       " ['775087.02', '2957120.525', 675],\n",
       " ['42.34980175', '-71.07840978', 650],\n",
       " ['42.35095909', '-71.0741278', 644],\n",
       " ['42.33367922', '-71.09187755', 636],\n",
       " ['772586.4767', '2949038.664', 635],\n",
       " ['42.34840576', '-71.08688339', 633],\n",
       " ['42.35602373', '-71.06177615', 633],\n",
       " ['42.28709355', '-71.14822128', 626],\n",
       " ['42.36643546', '-71.06135413', 625],\n",
       " ['757969.2324', '2918691.415', 624],\n",
       " ['42.37081805', '-71.03929078', 619],\n",
       " ['42.349056', '-71.1504985', 613],\n",
       " ['42.35241815', '-71.06525499', 611],\n",
       " ['773775.1158', '2953733.06', 597],\n",
       " ['771648.9274', '2946756.281', 595],\n",
       " ['42.3503787', '-71.07626098', 585],\n",
       " ['774107.7181', '2953709.249', 580],\n",
       " ['42.32809966', '-71.06321676', 580],\n",
       " ['42.33506218', '-71.09316781', 541],\n",
       " ['766765.8102', '2946902.542', 532]]"
      ]
     },
     "execution_count": 28,
     "metadata": {},
     "output_type": "execute_result"
    }
   ],
   "source": [
    "crime_Coordinates  = bostoncrimes.groupBy(\"Lat\",\"Long\").count().sort('count', ascending  = False).limit(50).collect()\n",
    "crime_Coordinates.pop(0)\n",
    "map_location = [[item[0],item[1],item[2]] for item in crime_Coordinates]\n",
    "long_lat=[[item[0],item[1]] for item in map_location]       \n",
    "long_lat.pop(0)\n",
    "count=[item[2] for item in map_location]\n",
    "map_location"
   ]
  },
  {
   "cell_type": "code",
   "execution_count": 29,
   "metadata": {},
   "outputs": [
    {
     "data": {
      "text/plain": [
       "[[41.976290414, -87.905227221, 13380],\n",
       " [41.754592961, -87.741528537, 9650],\n",
       " [41.883500187, -87.627876698, 7400],\n",
       " [41.897895128, -87.624096605, 4549],\n",
       " [41.896888586, -87.628203192, 3253],\n",
       " [41.909664252, -87.742728815, 3188],\n",
       " [41.885487535, -87.726422045, 2810],\n",
       " [41.788987036, -87.74147999, 2561],\n",
       " [41.904192368, -87.647000785, 2545],\n",
       " [41.88233367, -87.627841791, 2534],\n",
       " [41.736259984, -87.628068782, 2465],\n",
       " [41.721627204, -87.624485177, 2424],\n",
       " [41.737094305, -87.572998178, 2356],\n",
       " [41.68995741, -87.637460623, 2275],\n",
       " [41.891990384, -87.611461502, 2266],\n",
       " [41.979006297, -87.906463155, 2262],\n",
       " [41.739265865, -87.604893749, 2202],\n",
       " [41.868180939, -87.709271389, 2199],\n",
       " [41.736148121, -87.629070243, 2122],\n",
       " [41.868541914, -87.639235361, 2116],\n",
       " [42.019399237, -87.675049485, 2064],\n",
       " [41.706070186, -87.653645803, 2031],\n",
       " [41.882394062, -87.627844798, 2021],\n",
       " [41.899410159, -87.624131266, 2004],\n",
       " [41.750940757, -87.625185222, 1997],\n",
       " [41.814007401, -87.628331665, 1957],\n",
       " [41.929743818, -87.684273777, 1944],\n",
       " [41.874363279, -87.643013039, 1907],\n",
       " [41.766102387, -87.573539169, 1890],\n",
       " [41.907153315, -87.639680572, 1885],\n",
       " [41.864493678, -87.639158, 1884],\n",
       " [41.876607964, -87.627644063, 1882],\n",
       " [41.88171846, -87.627760426, 1879],\n",
       " [41.78210152, -87.586502002, 1865],\n",
       " [41.976200173, -87.905312411, 1862],\n",
       " [41.908430535, -87.638509526, 1798],\n",
       " [41.795991039, -87.630542489, 1740],\n",
       " [41.891694878, -87.626155832, 1733],\n",
       " [41.866810739, -87.625817031, 1720],\n",
       " [41.742710224, -87.634088181, 1717],\n",
       " [41.903775756, -87.639324074, 1714],\n",
       " [41.769185486, -87.625732415, 1677],\n",
       " [41.836385231, -87.66571041, 1672],\n",
       " [41.692833841, -87.60431945, 1670],\n",
       " [41.918711651, -87.76551063, 1658],\n",
       " [41.777309867, -87.640802922, 1639],\n",
       " [41.707519433, -87.601839023, 1617],\n",
       " [41.866331725, -87.666379171, 1615],\n",
       " [41.873699424, -87.704705156, 1612]]"
      ]
     },
     "execution_count": 29,
     "metadata": {},
     "output_type": "execute_result"
    }
   ],
   "source": [
    "_long_lat  = chicagocrimes.groupBy(\"Latitude\",\"Longitude\").count().sort('count', ascending  = False).limit(50).collect()\n",
    "_long_lat.pop(0)\n",
    "_location = [[item[0],item[1],item[2]] for item in _long_lat]\n",
    "coordinates=[[item[0],item[1]] for item in _location]       \n",
    "coordinates.pop(0)\n",
    "count=[item[2] for item in _location]\n",
    "_location"
   ]
  },
  {
   "cell_type": "code",
   "execution_count": 30,
   "metadata": {
    "scrolled": false
   },
   "outputs": [
    {
     "data": {
      "text/html": [
       "<div style=\"width:100%;\"><div style=\"position:relative;width:100%;height:0;padding-bottom:60%;\"><iframe src=\"data:text/html;charset=utf-8;base64,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\" style=\"position:absolute;width:100%;height:100%;left:0;top:0;border:none !important;\" allowfullscreen webkitallowfullscreen mozallowfullscreen></iframe></div></div>"
      ],
      "text/plain": [
       "<folium.folium.Map at 0x1a997edf908>"
      ]
     },
     "execution_count": 30,
     "metadata": {},
     "output_type": "execute_result"
    }
   ],
   "source": [
    "import folium\n",
    "from folium.plugins import HeatMap\n",
    "first_map = folium.Map(location=[42.355300, -71.055280], zoom_start=5)\n",
    "test = HeatMap(crime_Coordinates,name=None, min_opacity=0.5, max_zoom=18, max_val=1.0, radius=25, blur=10, gradient=None, overlay=True, control=True, show=True).add_to(first_map)\n",
    "test1 = HeatMap(_long_lat,name=None, min_opacity=0.5, max_zoom=18, max_val=1.0, radius=25, blur=10, gradient=None, overlay=True, control=True, show=True).add_to(first_map)\n",
    "first_map"
   ]
  },
  {
   "cell_type": "code",
   "execution_count": 31,
   "metadata": {},
   "outputs": [
    {
     "data": {
      "image/png": "[encoded data removed]",
      "text/plain": [
       "<Figure size 1296x720 with 1 Axes>"
      ]
     },
     "metadata": {
      "needs_background": "light"
     },
     "output_type": "display_data"
    },
    {
     "data": {
      "text/plain": [
       "[87052, 88058, 103357, 99430, 101338]"
      ]
     },
     "execution_count": 31,
     "metadata": {},
     "output_type": "execute_result"
    }
   ],
   "source": [
    "%matplotlib inline\n",
    "import matplotlib.pyplot as plt\n",
    "import numpy as np\n",
    "\n",
    "y_axis =[i[1] for i in yearCount.filter('YEAR >= 2013 AND YEAR <= 2018').orderBy(\"YEAR\").limit(5).collect()]\n",
    "x_axis= [i[0] for i in chicagoIncomeData.select(\"sum(Income)\").limit(5).collect()]\n",
    " \n",
    "data = [x_axis,y_axis]\n",
    "\n",
    "fig = plt.figure(figsize=(18,10))\n",
    "plt.title('Comparing income per year in Boston and Chicago from 2013 to 2017', fontsize=24)\n",
    "\n",
    "#bars = np.add(x_axis, y_axis).tolist()\n",
    "\n",
    "\n",
    "\n",
    " \n",
    "# Names of group and bar width\n",
    "names = ['2013','2014','2015','2016','2017']\n",
    "#barWidth = 0.25\n",
    "X = np.arange(len(names))\n",
    "plt.bar(X - 0.15, data[0], color = '#003f5c', width = 0.3,label='chicago')\n",
    "plt.bar(X + 0.15, data[1], color = '#58508d', width = 0.3,label='boston')\n",
    "# Create green bars (top)\n",
    "#plt.bar(r, bars3, bottom=bars, color='#2d7f5e', edgecolor='white', width=barWidth)\n",
    " \n",
    "ax = plt.gca()\n",
    "\n",
    "ax.legend(shadow=True)\n",
    "    \n",
    "# Custom X axis\n",
    "plt.xticks(X, names, fontweight='bold')\n",
    "plt.xlabel(\"year\")\n",
    "plt.ylabel(\"income per year\")\n",
    "\n",
    "# Show the major grid lines with dark grey lines\n",
    "plt.grid(b=True, which='major', color='#666666', linestyle='-')\n",
    "\n",
    "# Show the minor grid lines with very faint and almost transparent grey lines\n",
    "plt.minorticks_on()\n",
    "plt.grid(b=True, which='minor', color='#999999', linestyle='-', alpha=0.2)\n",
    "\n",
    "# Show graphic\n",
    "plt.show()\n",
    "x_axis\n",
    "y_axis"
   ]
  },
  {
   "cell_type": "code",
   "execution_count": null,
   "metadata": {},
   "outputs": [],
   "source": []
  },
  {
   "cell_type": "code",
   "execution_count": null,
   "metadata": {},
   "outputs": [],
   "source": []
  },
  {
   "cell_type": "code",
   "execution_count": null,
   "metadata": {},
   "outputs": [],
   "source": []
  },
  {
   "cell_type": "code",
   "execution_count": null,
   "metadata": {},
   "outputs": [],
   "source": []
  }
 ],
 "metadata": {
  "kernelspec": {
   "display_name": "Python 3",
   "language": "python",
   "name": "python3"
  },
  "language_info": {
   "codemirror_mode": {
    "name": "ipython",
    "version": 3
   },
   "file_extension": ".py",
   "mimetype": "text/x-python",
   "name": "python",
   "nbconvert_exporter": "python",
   "pygments_lexer": "ipython3",
   "version": "3.7.3"
  }
 },
 "nbformat": 4,
 "nbformat_minor": 2
}
