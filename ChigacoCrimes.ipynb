{
 "cells": [
  {
   "cell_type": "code",
   "execution_count": 1,
   "metadata": {},
   "outputs": [],
   "source": [
    "from pyspark.sql import SparkSession\n",
    "from pyspark.sql.types import  *\n",
    "from pyspark.sql import SQLContext\n",
    "#Zonder schema wordt de namen van de column onduidelijk zoals col1,col2 ....\n",
    "crimes_schema = StructType([StructField(\"ID\", StringType(), True),\n",
    "                            StructField(\"CaseNumber\", StringType(), True),\n",
    "                            StructField(\"Date\", StringType(), True ),\n",
    "                            StructField(\"Block\", StringType(), True),\n",
    "                            StructField(\"IUCR\", StringType(), True),\n",
    "                            StructField(\"PrimaryType\", StringType(), True  ),\n",
    "                            StructField(\"Description\", StringType(), True ),\n",
    "                            StructField(\"LocationDescription\", StringType(), True ),\n",
    "                            StructField(\"Arrest\", BooleanType(), True),\n",
    "                            StructField(\"Domestic\", BooleanType(), True),\n",
    "                            StructField(\"Beat\", StringType(), True),\n",
    "                            StructField(\"District\", StringType(), True),\n",
    "                            StructField(\"Ward\", StringType(), True),\n",
    "                            StructField(\"CommunityArea\", StringType(), True),\n",
    "                            StructField(\"FBICode\", StringType(), True ),\n",
    "                            StructField(\"XCoordinate\", DoubleType(), True),\n",
    "                            StructField(\"YCoordinate\", DoubleType(), True ),\n",
    "                            StructField(\"Year\", IntegerType(), True),\n",
    "                            StructField(\"UpdatedOn\", DateType(), True ),\n",
    "                            StructField(\"Latitude\", DoubleType(), True),\n",
    "                            StructField(\"Longitude\", DoubleType(), True),\n",
    "                            StructField(\"Location\", StringType(), True )\n",
    "                            ])\n",
    "\n",
    "income_schema = StructType([StructField(\"ID Year\", StringType(), True),\n",
    "                            StructField(\"Year\", StringType(), True),\n",
    "                            StructField(\"Income\", IntegerType(), True),\n",
    "                            StructField(\"Household Income by Race Moe\", StringType(), True),\n",
    "                            StructField(\"Geography\", StringType(), True),\n",
    "                            StructField(\"ID Geography\", StringType(), True),\n",
    "                            StructField(\"Slug\", StringType(), True)])\n",
    "\n",
    "\n",
    "spark = SparkSession.builder\\\n",
    "                    .master(\"local[*]\")\\\n",
    "                    .config(\"spark.execute.memory\", \"1gb\")\\\n",
    "                    .appName('Analyzing  chicago Crime data')\\\n",
    "                    .getOrCreate()\n",
    "\n",
    "crimes = spark.read.csv(\"./data/city_of_chicago_crimes_2001_to_present.csv\",\n",
    "                       header = True, \n",
    "                        schema = crimes_schema)\n",
    "\n",
    "\n",
    "\n",
    "income = spark.read.csv(\"./data/ChicagoHouseholdIncome.csv\", header = True, schema = income_schema)\n",
    "\n",
    "\n",
    "sc = spark.sparkContext\n",
    "sqlContext =SQLContext(sc)"
   ]
  },
  {
   "cell_type": "code",
   "execution_count": 2,
   "metadata": {},
   "outputs": [
    {
     "name": "stdout",
     "output_type": "stream",
     "text": [
      "+--------+----------+----------------------+---------------------+------------------+------------------------------+\n",
      "|ID      |CaseNumber|Date                  |Block                |PrimaryType       |Description                   |\n",
      "+--------+----------+----------------------+---------------------+------------------+------------------------------+\n",
      "|11857135|JC468110  |10/10/2019 11:39:00 PM|053XX S LAWNDALE AVE |BATTERY           |DOMESTIC BATTERY SIMPLE       |\n",
      "|11857005|JC468117  |10/10/2019 11:38:00 PM|040XX W LEXINGTON ST |NARCOTICS         |SOLICIT NARCOTICS ON PUBLICWAY|\n",
      "|11857045|JC468132  |10/10/2019 11:34:00 PM|048XX S ELIZABETH ST |DECEPTIVE PRACTICE|UNAUTHORIZED VIDEOTAPING      |\n",
      "|11857374|JC468411  |10/10/2019 11:31:00 PM|0000X N LATROBE AVE  |CRIMINAL DAMAGE   |TO VEHICLE                    |\n",
      "|11857461|JC468482  |10/10/2019 11:30:00 PM|048XX W CHICAGO AVE  |ROBBERY           |AGGRAVATED                    |\n",
      "|11857494|JC468546  |10/10/2019 11:30:00 PM|023XX N KEYSTONE AVE |BATTERY           |SIMPLE                        |\n",
      "|11857011|JC468125  |10/10/2019 11:24:00 PM|004XX S PULASKI RD   |NARCOTICS         |POSS: HEROIN(WHITE)           |\n",
      "|11857204|JC468100  |10/10/2019 11:23:00 PM|123XX S LAFAYETTE AVE|BATTERY           |DOMESTIC BATTERY SIMPLE       |\n",
      "|11857029|JC468102  |10/10/2019 11:20:00 PM|106XX S INDIANA AVE  |ROBBERY           |VEHICULAR HIJACKING           |\n",
      "|11857524|JC468635  |10/10/2019 11:15:00 PM|079XX S KENWOOD AVE  |ASSAULT           |SIMPLE                        |\n",
      "+--------+----------+----------------------+---------------------+------------------+------------------------------+\n",
      "only showing top 10 rows\n",
      "\n"
     ]
    }
   ],
   "source": [
    "crimes.select('ID','CaseNumber',\"Date\",'Block','PrimaryType','Description').show(10,truncate=False)"
   ]
  },
  {
   "cell_type": "code",
   "execution_count": 3,
   "metadata": {},
   "outputs": [
    {
     "data": {
      "text/plain": [
       "['ID',\n",
       " 'CaseNumber',\n",
       " 'Date',\n",
       " 'Block',\n",
       " 'IUCR',\n",
       " 'PrimaryType',\n",
       " 'Description',\n",
       " 'LocationDescription',\n",
       " 'Arrest',\n",
       " 'Domestic',\n",
       " 'Beat',\n",
       " 'District',\n",
       " 'Ward',\n",
       " 'CommunityArea',\n",
       " 'FBICode',\n",
       " 'XCoordinate',\n",
       " 'YCoordinate',\n",
       " 'Year',\n",
       " 'UpdatedOn',\n",
       " 'Latitude',\n",
       " 'Longitude',\n",
       " 'Location']"
      ]
     },
     "execution_count": 3,
     "metadata": {},
     "output_type": "execute_result"
    }
   ],
   "source": [
    "crimes.columns"
   ]
  },
  {
   "cell_type": "code",
   "execution_count": 4,
   "metadata": {},
   "outputs": [
    {
     "name": "stdout",
     "output_type": "stream",
     "text": [
      "+----------------------+\n",
      "|Date                  |\n",
      "+----------------------+\n",
      "|10/10/2019 11:39:00 PM|\n",
      "|10/10/2019 11:38:00 PM|\n",
      "|10/10/2019 11:34:00 PM|\n",
      "|10/10/2019 11:31:00 PM|\n",
      "|10/10/2019 11:30:00 PM|\n",
      "|10/10/2019 11:30:00 PM|\n",
      "|10/10/2019 11:24:00 PM|\n",
      "|10/10/2019 11:23:00 PM|\n",
      "|10/10/2019 11:20:00 PM|\n",
      "|10/10/2019 11:15:00 PM|\n",
      "+----------------------+\n",
      "only showing top 10 rows\n",
      "\n"
     ]
    }
   ],
   "source": [
    "crimes.select('Date').show(10,truncate=False)"
   ]
  },
  {
   "cell_type": "code",
   "execution_count": 5,
   "metadata": {},
   "outputs": [
    {
     "name": "stdout",
     "output_type": "stream",
     "text": [
      "+-------------------+\n",
      "|          Date_time|\n",
      "+-------------------+\n",
      "|2019-10-10 23:39:00|\n",
      "|2019-10-10 23:38:00|\n",
      "|2019-10-10 23:34:00|\n",
      "|2019-10-10 23:31:00|\n",
      "|2019-10-10 23:30:00|\n",
      "+-------------------+\n",
      "only showing top 5 rows\n",
      "\n"
     ]
    }
   ],
   "source": [
    "from datetime import datetime\n",
    "from pyspark.sql.functions import col,udf\n",
    "myfunc =  udf(lambda x: datetime.strptime(x, '%m/%d/%Y %I:%M:%S %p'), TimestampType())\n",
    "df =crimes.withColumn('Date_time',myfunc(col('Date'))).drop('Date')\n",
    "df.select(df[\"Date_time\"]).show(5)"
   ]
  },
  {
   "cell_type": "code",
   "execution_count": 6,
   "metadata": {},
   "outputs": [
    {
     "data": {
      "text/plain": [
       "[Row(Year=2001, count=485760),\n",
       " Row(Year=2002, count=486758),\n",
       " Row(Year=2003, count=475949),\n",
       " Row(Year=2004, count=469390),\n",
       " Row(Year=2005, count=453717),\n",
       " Row(Year=2006, count=448120),\n",
       " Row(Year=2007, count=437027),\n",
       " Row(Year=2008, count=427071),\n",
       " Row(Year=2009, count=392724),\n",
       " Row(Year=2010, count=370354),\n",
       " Row(Year=2011, count=351819),\n",
       " Row(Year=2012, count=336051),\n",
       " Row(Year=2013, count=307178),\n",
       " Row(Year=2014, count=275395),\n",
       " Row(Year=2015, count=264247),\n",
       " Row(Year=2016, count=269203),\n",
       " Row(Year=2017, count=268371),\n",
       " Row(Year=2018, count=267527),\n",
       " Row(Year=2019, count=202191)]"
      ]
     },
     "execution_count": 6,
     "metadata": {},
     "output_type": "execute_result"
    }
   ],
   "source": [
    "#data = df.groupBy('Year').count().show()\n",
    "data =df.groupBy('Year').count().sort('Year').collect()\n",
    "count = [item[1] for item in data]\n",
    "year = [item[0] for item in data]\n",
    "data"
   ]
  },
  {
   "cell_type": "code",
   "execution_count": 7,
   "metadata": {},
   "outputs": [
    {
     "data": {
      "image/png": "[encoded data removed]",
      "text/plain": [
       "<Figure size 1080x720 with 1 Axes>"
      ]
     },
     "metadata": {
      "needs_background": "light"
     },
     "output_type": "display_data"
    }
   ],
   "source": [
    "%matplotlib inline\n",
    "import matplotlib.pyplot as plt \n",
    "import numpy as np\n",
    "\n",
    "#years = ['2001','2002','2003','2004','2005','2006','2007','2008','2009','2010','2011','2012','2013','2014','2015','2016','2017','2018','2019']\n",
    "y_axis= [i for i in count]\n",
    "x_axis = [i for i in year]\n",
    "\n",
    "X = np.arange(len(year))\n",
    "data = [x_axis ,y_axis]\n",
    "\n",
    "\n",
    "fig1 = plt.figure(figsize=(15, 10))\n",
    "ax = plt.gca()\n",
    "plt.bar(X - 0.15, data[1], color = '#003f5c', width = 0.9,label='chicago')\n",
    "plt.ylabel(\"Number of Crimes\", fontsize = 18)\n",
    "plt.title(\"Number of Crimes Per Year\", fontsize = 28)\n",
    "ax = plt.gca()\n",
    "plt.xticks(X,(year))\n",
    "plt.yticks(size = 18)\n",
    "plt.show()\n"
   ]
  },
  {
   "cell_type": "code",
   "execution_count": null,
   "metadata": {},
   "outputs": [],
   "source": [
    "from pyspark.sql.functions import month\n",
    "monthdf = df.withColumn(\"Month\",month('Date_time'))\n",
    "monthCounts = monthdf.select(\"Month\").groupBy(\"Month\").count()\n",
    "monthCounts = monthCounts.collect()\n",
    "monthCounts"
   ]
  },
  {
   "cell_type": "code",
   "execution_count": null,
   "metadata": {},
   "outputs": [],
   "source": [
    "monthCounts.sort()\n",
    "months = [item[0] for item in monthCounts]\n",
    "count = [item[1] for item in monthCounts]\n",
    "monthCounts"
   ]
  },
  {
   "cell_type": "code",
   "execution_count": null,
   "metadata": {},
   "outputs": [],
   "source": [
    "#month = ['Jan','Feb','Mrt','Apr','Mei','Jun','Jul','aug','sep','okt','nov','dec']\n",
    "y_axis= [i for i in count]\n",
    "x_axis = [i for i in months]\n",
    "fig = plt.figure(figsize=(10,8))\n",
    "\n",
    "data = [x_axis ,y_axis]\n",
    "\n",
    "X = np.arange(1,13,1)\n",
    "\n",
    "plt.plot(X + 0.00, data[1], color = 'red',linewidth = 3, label='chicago')\n",
    "plt.xticks(X)\n",
    "# Show the major grid lines with dark grey lines\n",
    "plt.grid(b=True, which='major', color='#666666', linestyle='-')\n",
    "\n",
    "# Show the minor grid lines with very faint and almost transparent grey lines\n",
    "plt.minorticks_on()\n",
    "plt.grid(b=True, which='minor', color='#999999', linestyle='-', alpha=0.2)\n",
    "\n",
    "plt.show()"
   ]
  },
  {
   "cell_type": "code",
   "execution_count": null,
   "metadata": {},
   "outputs": [],
   "source": [
    "crime_location  = crimes.groupBy(\"LocationDescription\").count().sort('count', ascending  = False).limit(20).collect()\n",
    "crime_location"
   ]
  },
  {
   "cell_type": "code",
   "execution_count": null,
   "metadata": {},
   "outputs": [],
   "source": [
    "location = [item[0] for item in crime_location]\n",
    "count = [item[1] for item in crime_location]"
   ]
  },
  {
   "cell_type": "code",
   "execution_count": null,
   "metadata": {},
   "outputs": [],
   "source": [
    "x_axis = [i for i in location] \n",
    "y_axis= [i for i in count]\n",
    "\n",
    "fig = plt.figure(figsize=(20,20))\n",
    "fig.suptitle('Number of Crimes Per year', fontsize=36)\n",
    " \n",
    "plt.xlabel(\"Number of Crimes\", fontsize = 28)\n",
    "plt.ylabel(\"Crimes Location\", fontsize = 28)\n",
    "plt.barh(x_axis,y_axis,color = \"red\")\n",
    "plt.xticks(size = 24)\n",
    "plt.yticks(size = 24)\n",
    "plt.show()"
   ]
  },
  {
   "cell_type": "code",
   "execution_count": null,
   "metadata": {},
   "outputs": [],
   "source": [
    "crime_Coordinates  = crimes.groupBy(\"Latitude\",\"longitude\").count().sort('count', ascending  = False).limit(50).collect()\n",
    "crime_Coordinates.pop(0)\n",
    "map_location = [[item[0],item[1],item[2]] for item in crime_Coordinates]\n",
    "long_lat=[[item[0],item[1]] for item in map_location]       \n",
    "long_lat.pop(0)\n",
    "count=[item[2] for item in map_location]\n",
    "map_location"
   ]
  },
  {
   "cell_type": "code",
   "execution_count": null,
   "metadata": {},
   "outputs": [],
   "source": [
    "import folium\n",
    "from folium.plugins import HeatMap\n",
    "first_map = folium.Map(location=[41.885487535, -87.726422045], zoom_start=13)\n",
    "HeatMap(long_lat,name=None, min_opacity=0.5, max_zoom=18, max_val=1.0, radius=25, blur=10, gradient=None, overlay=True, control=True, show=True).add_to(first_map)\n",
    "\n",
    "first_map"
   ]
  },
  {
   "cell_type": "code",
   "execution_count": null,
   "metadata": {},
   "outputs": [],
   "source": [
    "yearCount = crimes.groupBy(\"YEAR\").count().orderBy(\"YEAR\")#.groupBy(\"YEAR\").count().orderBy(\"YEAR\").show()"
   ]
  },
  {
   "cell_type": "code",
   "execution_count": null,
   "metadata": {},
   "outputs": [],
   "source": [
    "income.show()"
   ]
  },
  {
   "cell_type": "code",
   "execution_count": null,
   "metadata": {},
   "outputs": [],
   "source": [
    "income.registerTempTable('chicagoIncome')\n",
    "\n",
    "chicagoIncomeData = sqlContext.sql(\"Select * From chicagoIncome where Slug Like 'chicago%'\").groupBy(\"Year\").sum(\"income\").orderBy('Year')\n",
    "chicagoIncomeData.show()"
   ]
  },
  {
   "cell_type": "code",
   "execution_count": null,
   "metadata": {},
   "outputs": [],
   "source": [
    "chicago_year_count=crimes.groupBy(\"YEAR\").count().orderBy(\"YEAR\")#.groupBy(\"YEAR\").count().orderBy(\"YEAR\").show()"
   ]
  },
  {
   "cell_type": "code",
   "execution_count": null,
   "metadata": {},
   "outputs": [],
   "source": [
    "chicago_year_count.show()"
   ]
  },
  {
   "cell_type": "code",
   "execution_count": null,
   "metadata": {},
   "outputs": [],
   "source": [
    "import numpy as np \n",
    "x_axies = [i[0] for i in chicagoIncomeData.select(\"sum(Income)\").limit(5).collect()]\n",
    "y_axies = [i[1] for i in chicago_year_count.filter('YEAR >= 2013 AND YEAR <= 2018').orderBy(\"YEAR\").limit(5).collect()]\n",
    "\n",
    "data = [x_axies, y_axies]\n",
    "years = [\"2013\",\"2014\",\"2015\",\"2016\",\"2017\"]\n",
    "X = np.arange(len(years))\n",
    "\n",
    "plt.title('Crime VS incom in chicago', fontsize=20)\n",
    "plt.bar(X + 0.15, data[1], color = '#ff5252', width = 0.30, label = 'Crime ')\n",
    "plt.bar(X - 0.15, data[0], color = '#9dff52', width = 0.30, label = 'Income')\n",
    "\n",
    "ax = plt.gca()\n",
    "ax.legend(shadow=True)\n",
    "plt.xticks(X,(years))\n",
    "plt.show()"
   ]
  },
  {
   "cell_type": "code",
   "execution_count": null,
   "metadata": {},
   "outputs": [],
   "source": []
  }
 ],
 "metadata": {
  "kernelspec": {
   "display_name": "Python 3",
   "language": "python",
   "name": "python3"
  },
  "language_info": {
   "codemirror_mode": {
    "name": "ipython",
    "version": 3
   },
   "file_extension": ".py",
   "mimetype": "text/x-python",
   "name": "python",
   "nbconvert_exporter": "python",
   "pygments_lexer": "ipython3",
   "version": "3.7.3"
  }
 },
 "nbformat": 4,
 "nbformat_minor": 2
}
